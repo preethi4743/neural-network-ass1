{
 "cells": [
  {
   "cell_type": "code",
   "execution_count": 1,
   "id": "4461fb84",
   "metadata": {},
   "outputs": [
    {
     "name": "stdout",
     "output_type": "stream",
     "text": [
      "Accuracy: 0.535\n",
      "              precision    recall  f1-score   support\n",
      "\n",
      "           1       0.67      0.32      0.43        19\n",
      "           2       0.39      1.00      0.56        11\n",
      "           3       0.00      0.00      0.00         5\n",
      "           5       0.00      0.00      0.00         1\n",
      "           6       1.00      0.50      0.67         2\n",
      "           7       1.00      1.00      1.00         5\n",
      "\n",
      "    accuracy                           0.53        43\n",
      "   macro avg       0.51      0.47      0.44        43\n",
      "weighted avg       0.56      0.53      0.48        43\n",
      "\n"
     ]
    },
    {
     "name": "stderr",
     "output_type": "stream",
     "text": [
      "C:\\Users\\ASUS\\anaconda3\\lib\\site-packages\\sklearn\\metrics\\_classification.py:1344: UndefinedMetricWarning: Precision and F-score are ill-defined and being set to 0.0 in labels with no predicted samples. Use `zero_division` parameter to control this behavior.\n",
      "  _warn_prf(average, modifier, msg_start, len(result))\n",
      "C:\\Users\\ASUS\\anaconda3\\lib\\site-packages\\sklearn\\metrics\\_classification.py:1344: UndefinedMetricWarning: Precision and F-score are ill-defined and being set to 0.0 in labels with no predicted samples. Use `zero_division` parameter to control this behavior.\n",
      "  _warn_prf(average, modifier, msg_start, len(result))\n",
      "C:\\Users\\ASUS\\anaconda3\\lib\\site-packages\\sklearn\\metrics\\_classification.py:1344: UndefinedMetricWarning: Precision and F-score are ill-defined and being set to 0.0 in labels with no predicted samples. Use `zero_division` parameter to control this behavior.\n",
      "  _warn_prf(average, modifier, msg_start, len(result))\n"
     ]
    }
   ],
   "source": [
    "import pandas as pd\n",
    "from sklearn.model_selection import train_test_split\n",
    "from sklearn.svm import LinearSVC\n",
    "from sklearn.metrics import classification_report\n",
    "\n",
    "\n",
    "# using pandas importing the dataset\n",
    "df = pd.read_csv('glass.csv')\n",
    "X_train, X_test, Y_train, Y_test = train_test_split(df.drop(\"Type\", axis=1), df[\"Type\"], test_size=0.2)\n",
    "\n",
    "# train model using linear support vector machine\n",
    "model = LinearSVC(dual=False)\n",
    "model.fit(X_train, Y_train)\n",
    "\n",
    "# evaluating the model\n",
    "score = model.score(X_test, Y_test)\n",
    "print('Accuracy: %.3f' % score)\n",
    "\n",
    "# generating the classification report \n",
    "y_pred = model.predict(X_test)\n",
    "report = classification_report(y_true=Y_test, y_pred=y_pred)\n",
    "print(report)"
   ]
  },
  {
   "cell_type": "code",
   "execution_count": null,
   "id": "e6478880",
   "metadata": {},
   "outputs": [],
   "source": []
  }
 ],
 "metadata": {
  "kernelspec": {
   "display_name": "Python 3 (ipykernel)",
   "language": "python",
   "name": "python3"
  },
  "language_info": {
   "codemirror_mode": {
    "name": "ipython",
    "version": 3
   },
   "file_extension": ".py",
   "mimetype": "text/x-python",
   "name": "python",
   "nbconvert_exporter": "python",
   "pygments_lexer": "ipython3",
   "version": "3.10.9"
  }
 },
 "nbformat": 4,
 "nbformat_minor": 5
}
