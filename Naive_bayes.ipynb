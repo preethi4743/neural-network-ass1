{
 "cells": [
  {
   "cell_type": "code",
   "execution_count": 1,
   "id": "8bc10ffc",
   "metadata": {},
   "outputs": [
    {
     "name": "stdout",
     "output_type": "stream",
     "text": [
      "Accuracy: 0.465\n",
      "              precision    recall  f1-score   support\n",
      "\n",
      "           1       0.69      0.56      0.62        16\n",
      "           2       0.10      0.11      0.11         9\n",
      "           3       0.12      0.33      0.18         3\n",
      "           5       0.50      0.20      0.29         5\n",
      "           6       0.33      1.00      0.50         1\n",
      "           7       1.00      0.78      0.88         9\n",
      "\n",
      "    accuracy                           0.47        43\n",
      "   macro avg       0.46      0.50      0.43        43\n",
      "weighted avg       0.56      0.47      0.49        43\n",
      "\n"
     ]
    }
   ],
   "source": [
    "import pandas as pd\n",
    "from sklearn.model_selection import train_test_split\n",
    "from sklearn.naive_bayes import GaussianNB\n",
    "from sklearn.metrics import classification_report\n",
    "\n",
    "#using pandas importing the glass csv file \n",
    "df = pd.read_csv('glass.csv')\n",
    "X_train, X_test, Y_train, Y_test = train_test_split(df.drop(\"Type\", axis=1), df[\"Type\"], test_size=0.2)\n",
    "\n",
    "# train model using the Naive_bayes \n",
    "model = GaussianNB()\n",
    "model.fit(X_train, Y_train)\n",
    "\n",
    "# evaluating the model\n",
    "score = model.score(X_test, Y_test)\n",
    "print('Accuracy: %.3f' % score)\n",
    "\n",
    "# generating the classification report  \n",
    "y_pred = model.predict(X_test)\n",
    "report = classification_report(y_true=Y_test, y_pred=y_pred)\n",
    "print(report)"
   ]
  },
  {
   "cell_type": "code",
   "execution_count": null,
   "id": "d2cb7e76",
   "metadata": {},
   "outputs": [],
   "source": []
  }
 ],
 "metadata": {
  "kernelspec": {
   "display_name": "Python 3 (ipykernel)",
   "language": "python",
   "name": "python3"
  },
  "language_info": {
   "codemirror_mode": {
    "name": "ipython",
    "version": 3
   },
   "file_extension": ".py",
   "mimetype": "text/x-python",
   "name": "python",
   "nbconvert_exporter": "python",
   "pygments_lexer": "ipython3",
   "version": "3.10.9"
  }
 },
 "nbformat": 4,
 "nbformat_minor": 5
}
